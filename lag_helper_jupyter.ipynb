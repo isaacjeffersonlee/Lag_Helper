{
 "cells": [
  {
   "cell_type": "markdown",
   "id": "eb53c241",
   "metadata": {},
   "source": [
    "\n",
    "# Linear Algebra Helper\n",
    "##### Author: Isaac Lee\n",
    "\n",
    "This notebook is designed to aid with tedious matrix related calculations.  \n",
    "Input a matrix with a given number of rows.  \n",
    "For each row input a space seperated list of elements, e.g 1 0 0 2 1  \n",
    "\n",
    "*The following will be calculated for the input matrix A:*  \n",
    "1. The eigenvectors, eigenvalues and multiplicities.  \n",
    "2. The characteristic polynomial.\n",
    "3. Interactive minimal polynomial calculator.\n",
    "4. JCF and RCF Helper (Doesn't actually find RCF).\n",
    "5. Gram Schmidt.\n",
    "\n",
    "\n"
   ]
  },
  {
   "cell_type": "markdown",
   "id": "764258de",
   "metadata": {},
   "source": [
    "\n",
    "### Characteristic and Minimal Polynomials\n",
    "$ \n",
    "C_A(x) = \\prod_{i=1}^t f_i(x)^{a_i} ~ ~ ~ ~ ~ ~ ~ ~ m_A(x) = \\prod_{i=1}^t f_i(x)^{n_i}\n",
    "$\n",
    "\n"
   ]
  },
  {
   "cell_type": "markdown",
   "id": "cb61757b",
   "metadata": {},
   "source": [
    "### Jordan Canonical Form\n",
    "*Proposition 11.4:* Let J be as in lecture notes,\n",
    "1. $n_1 + \\ldots + n_a = a(\\lambda)$, the algebraic multiplicity of $ \\lambda $.  \n",
    "\n",
    "2. $a = $ number of $\\lambda$-blocks $= g(\\lambda)$, the geometric multiplicity of $\\lambda$.  \n",
    "\n",
    "3. $max(n_1, \\ldots, n_a) = r$, where $(x-\\lambda)^r$ is the highest power of $x-\\lambda$ dividing $m_A(x)$, the minimal polynomial of A."
   ]
  },
  {
   "cell_type": "markdown",
   "id": "08b07375",
   "metadata": {},
   "source": [
    "### Rational Canonical Form\n",
    "*Proposition 12.7:* Let A be an nxn matrix and $f_i$ one of the factors of its characteristic polynomial.  \n",
    "Consider the blocks of the RCF of A associated with $f_i$ which are:  \n",
    "$$\n",
    "    C(f_i(x)^{k_{il}}) \\oplus \\ldots \\oplus C(f_i(x)^{k_{ir_i}})\n",
    "$$ \n",
    "with the exponents defined as in *Theorem 12.5*. Also let $d$ be the degree of $f_i$. Then:  \n",
    "1. $\\sum_{j=1}^{r_i} k_{ij}$ is the highest power of $f_i$ dividing the characteristic polynomial.  \n",
    "  \n",
    "2. $r_i = \\frac{n-rank(f_i(A))}{d} $ The number of blocks.  \n",
    "  \n",
    "3. $k_{il}$ (the largest $k_{ij}$) is the highest power of $f_i$ dividing the minimal polynomial, i.e $k_{il} = n_i$. "
   ]
  },
  {
   "cell_type": "code",
   "execution_count": 5,
   "id": "9cf60afd",
   "metadata": {},
   "outputs": [],
   "source": [
    "from lag_helper_functions import *\n",
    "sp.init_printing(use_latex=False)"
   ]
  },
  {
   "cell_type": "code",
   "execution_count": null,
   "id": "204d9662",
   "metadata": {},
   "outputs": [],
   "source": [
    "A = input_matrix()\n",
    "main(A)"
   ]
  },
  {
   "cell_type": "markdown",
   "id": "73b033b7",
   "metadata": {},
   "source": [
    "### Gram Schmidt\n",
    "Input a matrix, where the columns are the *linearly indpendent* basis vectors you wish to orthonormalize.\n",
    "Note: This assumes the inner product used is the dot product for $\\mathbb{C}^n$."
   ]
  },
  {
   "cell_type": "code",
   "execution_count": 16,
   "id": "ff6a3884",
   "metadata": {},
   "outputs": [
    {
     "data": {
      "text/markdown": [
       "------------------------------"
      ],
      "text/plain": [
       "<IPython.core.display.Markdown object>"
      ]
     },
     "metadata": {},
     "output_type": "display_data"
    },
    {
     "data": {
      "text/markdown": [
       "### Input Matrix of Vectors"
      ],
      "text/plain": [
       "<IPython.core.display.Markdown object>"
      ]
     },
     "metadata": {},
     "output_type": "display_data"
    },
    {
     "name": "stdout",
     "output_type": "stream",
     "text": [
      "\n",
      "Input each row as a space seperated list of the elements.\n",
      "E.g: 1 0 0 0 -1 0\n"
     ]
    },
    {
     "data": {
      "text/plain": [
       "⎡1  0⎤\n",
       "⎢    ⎥\n",
       "⎣0  1⎦"
      ]
     },
     "metadata": {},
     "output_type": "display_data"
    },
    {
     "data": {
      "text/markdown": [
       "Input Vectors"
      ],
      "text/plain": [
       "<IPython.core.display.Markdown object>"
      ]
     },
     "metadata": {},
     "output_type": "display_data"
    },
    {
     "data": {
      "text/plain": [
       "⎡⎡1⎤  ⎡0⎤⎤\n",
       "⎢⎢ ⎥, ⎢ ⎥⎥\n",
       "⎣⎣0⎦  ⎣1⎦⎦"
      ]
     },
     "metadata": {},
     "output_type": "display_data"
    },
    {
     "data": {
      "text/markdown": [
       "------------------------------"
      ],
      "text/plain": [
       "<IPython.core.display.Markdown object>"
      ]
     },
     "metadata": {},
     "output_type": "display_data"
    },
    {
     "data": {
      "text/markdown": [
       "### Orthonormalized Basis Vectors"
      ],
      "text/plain": [
       "<IPython.core.display.Markdown object>"
      ]
     },
     "metadata": {},
     "output_type": "display_data"
    },
    {
     "data": {
      "text/plain": [
       "⎡⎡1⎤  ⎡0⎤⎤\n",
       "⎢⎢ ⎥, ⎢ ⎥⎥\n",
       "⎣⎣0⎦  ⎣1⎦⎦"
      ]
     },
     "metadata": {},
     "output_type": "display_data"
    }
   ],
   "source": [
    "gram_schmidt()"
   ]
  },
  {
   "cell_type": "markdown",
   "id": "84025590",
   "metadata": {},
   "source": [
    "### CASIO fx-CG420\n",
    "Freeform calculator. User can input their own matrix operations,"
   ]
  },
  {
   "cell_type": "code",
   "execution_count": 7,
   "id": "bfc31d16",
   "metadata": {},
   "outputs": [
    {
     "name": "stdout",
     "output_type": "stream",
     "text": [
      "\n",
      "Input each row as a space seperated list of the elements.\n",
      "E.g: 1 0 0 0 -1 0\n"
     ]
    }
   ],
   "source": [
    "A = input_matrix()\n",
    "display(A)"
   ]
  },
  {
   "cell_type": "markdown",
   "id": "0e9bf88c",
   "metadata": {},
   "source": [
    "#### Examples\n",
    "See [Sympy Documentation](https://docs.sympy.org/latest/modules/matrices/index.html) for possible operations.\n"
   ]
  },
  {
   "cell_type": "code",
   "execution_count": 13,
   "id": "8c1e8c60",
   "metadata": {},
   "outputs": [
    {
     "data": {
      "text/plain": [
       "2"
      ]
     },
     "execution_count": 13,
     "metadata": {},
     "output_type": "execute_result"
    }
   ],
   "source": [
    "x = sp.symbols('x')\n",
    "n = A.shape[0]\n",
    "#----------------------------------------------------------------------\n",
    "# Rank example\n",
    "(A**2 + A - sp.eye(n)).rank()"
   ]
  },
  {
   "cell_type": "code",
   "execution_count": 14,
   "id": "755393cd",
   "metadata": {},
   "outputs": [
    {
     "data": {
      "text/plain": [
       "[]"
      ]
     },
     "execution_count": 14,
     "metadata": {},
     "output_type": "execute_result"
    }
   ],
   "source": [
    "# Nullspace of a Matrix example\n",
    "A.nullspace()"
   ]
  },
  {
   "cell_type": "code",
   "execution_count": 15,
   "id": "70ad81a2",
   "metadata": {},
   "outputs": [
    {
     "data": {
      "text/plain": [
       "⎛⎡1  0⎤        ⎞\n",
       "⎜⎢    ⎥, (0, 1)⎟\n",
       "⎝⎣0  1⎦        ⎠"
      ]
     },
     "execution_count": 15,
     "metadata": {},
     "output_type": "execute_result"
    }
   ],
   "source": [
    "# Reduce to RREF\n",
    "A.rref()"
   ]
  }
 ],
 "metadata": {
  "kernelspec": {
   "display_name": "Python 3 (ipykernel)",
   "language": "python",
   "name": "python3"
  },
  "language_info": {
   "codemirror_mode": {
    "name": "ipython",
    "version": 3
   },
   "file_extension": ".py",
   "mimetype": "text/x-python",
   "name": "python",
   "nbconvert_exporter": "python",
   "pygments_lexer": "ipython3",
   "version": "3.9.5"
  }
 },
 "nbformat": 4,
 "nbformat_minor": 5
}
