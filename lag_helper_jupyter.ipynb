{
 "cells": [
  {
   "cell_type": "markdown",
   "id": "eb53c241",
   "metadata": {},
   "source": [
    "\n",
    "# Linear Algebra Helper\n",
    "##### Author: Isaac Lee\n",
    "\n",
    "This notebook is designed to aid with tedious matrix related calculations.  \n",
    "Input a matrix with a given number of rows.  \n",
    "For each row input a space seperated list of elements, e.g 1 0 0 2 1  \n",
    "\n",
    "*The following will be calculated for the input matrix A:*  \n",
    "1. The eigenvectors, eigenvalues and multiplicities.  \n",
    "2. The characteristic polynomial.\n",
    "3. Interactive minimal polynomial calculator.\n",
    "4. JCF and RCF Helper (Doesn't actually find RCF)\n",
    "5. Gram Schmidt\n",
    "\n",
    "\n"
   ]
  },
  {
   "cell_type": "markdown",
   "id": "764258de",
   "metadata": {},
   "source": [
    "\n",
    "### Characteristic and Minimal Polynomials\n",
    "$ \n",
    "C_A(x) = \\prod_{i=1}^t f_i(x)^{a_i} ~ ~ ~ ~ ~ ~ ~ ~ m_A(x) = \\prod_{i=1}^t f_i(x)^{n_i}\n",
    "$\n",
    "\n"
   ]
  },
  {
   "cell_type": "markdown",
   "id": "cb61757b",
   "metadata": {},
   "source": [
    "### Jordan Canonical Form\n",
    "*Proposition 11.4:* Let J be as in lecture notes,\n",
    "1. $n_1 + \\ldots + n_a = a(\\lambda)$, the algebraic multiplicity of $ \\lambda $.  \n",
    "\n",
    "2. $a = $ number of $\\lambda$-blocks $= g(\\lambda)$, the geometric multiplicity of $\\lambda$.  \n",
    "\n",
    "3. $max(n_1, \\ldots, n_a) = r$, where $(x-\\lambda)^r$ is the highest power of $x-\\lambda$ dividing $m_A(x)$, the minimal polynomial of A."
   ]
  },
  {
   "cell_type": "markdown",
   "id": "08b07375",
   "metadata": {},
   "source": [
    "### Rational Canonical Form\n",
    "*Proposition 12.7:* Let A be an nxn matrix and $f_i$ one of the factors of its characteristic polynomial.  \n",
    "Consider the blocks of the RCF of A associated with $f_i$ which are:  \n",
    "$$\n",
    "    C(f_i(x)^{k_{il}}) \\oplus \\ldots \\oplus C(f_i(x)^{k_{ir_i}})\n",
    "$$ \n",
    "with the exponents defined as in *Theorem 12.5*. Also let $d$ be the degree of $f_i$. Then:  \n",
    "1. $\\sum_{j=1}^{r_i} k_{ij}$ is the highest power of $f_i$ dividing the characteristic polynomial.  \n",
    "  \n",
    "2. $r_i = \\frac{n-rank(f_i(A))}{d} $ The number of blocks.  \n",
    "  \n",
    "3. $k_{il}$ (the largest $k_{ij}$) is the highest power of $f_i$ dividing the minimal polynomial, i.e $k_{il} = n_i$. "
   ]
  },
  {
   "cell_type": "code",
   "execution_count": 3,
   "id": "9cf60afd",
   "metadata": {},
   "outputs": [],
   "source": [
    "from lag_helper_functions import *\n",
    "sp.init_printing(use_latex=False)"
   ]
  },
  {
   "cell_type": "code",
   "execution_count": null,
   "id": "204d9662",
   "metadata": {},
   "outputs": [],
   "source": [
    "main()"
   ]
  },
  {
   "cell_type": "markdown",
   "id": "73b033b7",
   "metadata": {},
   "source": [
    "### Gram Schmidt\n",
    "Input a matrix, where the columns are the *linearly indpendent* basis vectors you wish to orthonormalize.\n",
    "Note: This assumes the inner product used is the dot product for $\\mathbb{C}^n$."
   ]
  },
  {
   "cell_type": "code",
   "execution_count": 4,
   "id": "ff6a3884",
   "metadata": {},
   "outputs": [
    {
     "data": {
      "text/markdown": [
       "------------------------------"
      ],
      "text/plain": [
       "<IPython.core.display.Markdown object>"
      ]
     },
     "metadata": {},
     "output_type": "display_data"
    },
    {
     "data": {
      "text/markdown": [
       "### Input Matrix of Vectors"
      ],
      "text/plain": [
       "<IPython.core.display.Markdown object>"
      ]
     },
     "metadata": {},
     "output_type": "display_data"
    },
    {
     "name": "stdout",
     "output_type": "stream",
     "text": [
      "\n"
     ]
    },
    {
     "ename": "ValueError",
     "evalue": "invalid literal for int() with base 10: ''",
     "output_type": "error",
     "traceback": [
      "\u001b[0;31m---------------------------------------------------------------------------\u001b[0m",
      "\u001b[0;31mValueError\u001b[0m                                Traceback (most recent call last)",
      "\u001b[0;32m/tmp/ipykernel_504318/1553725802.py\u001b[0m in \u001b[0;36m<module>\u001b[0;34m\u001b[0m\n\u001b[0;32m----> 1\u001b[0;31m \u001b[0mgram_schmidt\u001b[0m\u001b[0;34m(\u001b[0m\u001b[0;34m)\u001b[0m\u001b[0;34m\u001b[0m\u001b[0;34m\u001b[0m\u001b[0m\n\u001b[0m",
      "\u001b[0;32m~/Projects/Lag_Helper/lag_helper_functions.py\u001b[0m in \u001b[0;36mgram_schmidt\u001b[0;34m()\u001b[0m\n\u001b[1;32m     68\u001b[0m     \u001b[0mdisplay\u001b[0m\u001b[0;34m(\u001b[0m\u001b[0mMarkdown\u001b[0m\u001b[0;34m(\u001b[0m\u001b[0;34m\"------------------------------\"\u001b[0m\u001b[0;34m)\u001b[0m\u001b[0;34m)\u001b[0m\u001b[0;34m\u001b[0m\u001b[0;34m\u001b[0m\u001b[0m\n\u001b[1;32m     69\u001b[0m     \u001b[0mdisplay\u001b[0m\u001b[0;34m(\u001b[0m\u001b[0mMarkdown\u001b[0m\u001b[0;34m(\u001b[0m\u001b[0;34m\"### Input Matrix of Vectors\"\u001b[0m\u001b[0;34m)\u001b[0m\u001b[0;34m)\u001b[0m\u001b[0;34m\u001b[0m\u001b[0;34m\u001b[0m\u001b[0m\n\u001b[0;32m---> 70\u001b[0;31m     \u001b[0mA\u001b[0m \u001b[0;34m=\u001b[0m \u001b[0minput_matrix\u001b[0m\u001b[0;34m(\u001b[0m\u001b[0;34m)\u001b[0m\u001b[0;34m\u001b[0m\u001b[0;34m\u001b[0m\u001b[0m\n\u001b[0m\u001b[1;32m     71\u001b[0m     \u001b[0mdisplay\u001b[0m\u001b[0;34m(\u001b[0m\u001b[0mA\u001b[0m\u001b[0;34m)\u001b[0m\u001b[0;34m\u001b[0m\u001b[0;34m\u001b[0m\u001b[0m\n\u001b[1;32m     72\u001b[0m     \u001b[0mdisplay\u001b[0m\u001b[0;34m(\u001b[0m\u001b[0mMarkdown\u001b[0m\u001b[0;34m(\u001b[0m\u001b[0;34m\"Input Vectors\"\u001b[0m\u001b[0;34m)\u001b[0m\u001b[0;34m)\u001b[0m\u001b[0;34m\u001b[0m\u001b[0;34m\u001b[0m\u001b[0m\n",
      "\u001b[0;32m~/Projects/Lag_Helper/lag_helper_functions.py\u001b[0m in \u001b[0;36minput_matrix\u001b[0;34m()\u001b[0m\n\u001b[1;32m     19\u001b[0m     \"\"\"\n\u001b[1;32m     20\u001b[0m     \u001b[0mprint\u001b[0m\u001b[0;34m(\u001b[0m\u001b[0;34m\"\"\u001b[0m\u001b[0;34m)\u001b[0m\u001b[0;34m\u001b[0m\u001b[0;34m\u001b[0m\u001b[0m\n\u001b[0;32m---> 21\u001b[0;31m     \u001b[0mn\u001b[0m \u001b[0;34m=\u001b[0m \u001b[0mint\u001b[0m\u001b[0;34m(\u001b[0m\u001b[0minput\u001b[0m\u001b[0;34m(\u001b[0m\u001b[0;34m\"No. Rows: \"\u001b[0m\u001b[0;34m)\u001b[0m\u001b[0;34m)\u001b[0m\u001b[0;34m\u001b[0m\u001b[0;34m\u001b[0m\u001b[0m\n\u001b[0m\u001b[1;32m     22\u001b[0m     \u001b[0mprint\u001b[0m\u001b[0;34m(\u001b[0m\u001b[0;34m\"Input each row as a space seperated list of the elements.\"\u001b[0m\u001b[0;34m)\u001b[0m\u001b[0;34m\u001b[0m\u001b[0;34m\u001b[0m\u001b[0m\n\u001b[1;32m     23\u001b[0m     \u001b[0mprint\u001b[0m\u001b[0;34m(\u001b[0m\u001b[0;34m\"E.g: 1 0 0 0 -1 0\"\u001b[0m\u001b[0;34m)\u001b[0m\u001b[0;34m\u001b[0m\u001b[0;34m\u001b[0m\u001b[0m\n",
      "\u001b[0;31mValueError\u001b[0m: invalid literal for int() with base 10: ''"
     ]
    }
   ],
   "source": [
    "gram_schmidt()"
   ]
  },
  {
   "cell_type": "code",
   "execution_count": null,
   "id": "97ed53d7",
   "metadata": {},
   "outputs": [],
   "source": []
  }
 ],
 "metadata": {
  "kernelspec": {
   "display_name": "Python 3 (ipykernel)",
   "language": "python",
   "name": "python3"
  },
  "language_info": {
   "codemirror_mode": {
    "name": "ipython",
    "version": 3
   },
   "file_extension": ".py",
   "mimetype": "text/x-python",
   "name": "python",
   "nbconvert_exporter": "python",
   "pygments_lexer": "ipython3",
   "version": "3.9.5"
  }
 },
 "nbformat": 4,
 "nbformat_minor": 5
}
